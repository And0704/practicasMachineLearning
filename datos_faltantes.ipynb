{
 "cells": [
  {
   "cell_type": "markdown",
   "metadata": {},
   "source": [
    "# Tratamiento de datos faltantes"
   ]
  },
  {
   "cell_type": "code",
   "execution_count": 13,
   "metadata": {},
   "outputs": [],
   "source": [
    "import pandas as pd\n",
    "import seaborn as sb\n",
    "import matplotlib.pyplot as plt"
   ]
  },
  {
   "cell_type": "code",
   "execution_count": 14,
   "metadata": {},
   "outputs": [],
   "source": [
    "## Exportacion del csv\n",
    "\n",
    "df = pd.read_csv(\"titanic.csv\")"
   ]
  },
  {
   "cell_type": "code",
   "execution_count": 15,
   "metadata": {},
   "outputs": [
    {
     "data": {
      "text/plain": [
       "name          0\n",
       "gender        0\n",
       "age           2\n",
       "class         0\n",
       "embarked      0\n",
       "country      81\n",
       "ticketno    891\n",
       "fare        916\n",
       "sibsp       900\n",
       "parch       900\n",
       "survived      0\n",
       "dtype: int64"
      ]
     },
     "execution_count": 15,
     "metadata": {},
     "output_type": "execute_result"
    }
   ],
   "source": [
    "df.isnull().sum()"
   ]
  },
  {
   "cell_type": "code",
   "execution_count": 16,
   "metadata": {},
   "outputs": [],
   "source": [
    "datos_nulos_pais = df[df['country'].isnull()]"
   ]
  },
  {
   "cell_type": "code",
   "execution_count": 17,
   "metadata": {},
   "outputs": [
    {
     "data": {
      "text/html": [
       "<div>\n",
       "<style scoped>\n",
       "    .dataframe tbody tr th:only-of-type {\n",
       "        vertical-align: middle;\n",
       "    }\n",
       "\n",
       "    .dataframe tbody tr th {\n",
       "        vertical-align: top;\n",
       "    }\n",
       "\n",
       "    .dataframe thead th {\n",
       "        text-align: right;\n",
       "    }\n",
       "</style>\n",
       "<table border=\"1\" class=\"dataframe\">\n",
       "  <thead>\n",
       "    <tr style=\"text-align: right;\">\n",
       "      <th></th>\n",
       "      <th>name</th>\n",
       "      <th>gender</th>\n",
       "      <th>age</th>\n",
       "      <th>class</th>\n",
       "      <th>embarked</th>\n",
       "      <th>country</th>\n",
       "      <th>ticketno</th>\n",
       "      <th>fare</th>\n",
       "      <th>sibsp</th>\n",
       "      <th>parch</th>\n",
       "      <th>survived</th>\n",
       "    </tr>\n",
       "  </thead>\n",
       "  <tbody>\n",
       "    <tr>\n",
       "      <th>89</th>\n",
       "      <td>Barber, Miss. Ellen Mary</td>\n",
       "      <td>female</td>\n",
       "      <td>27.0</td>\n",
       "      <td>1st</td>\n",
       "      <td>S</td>\n",
       "      <td>NaN</td>\n",
       "      <td>19877.0</td>\n",
       "      <td>78.1700</td>\n",
       "      <td>0.0</td>\n",
       "      <td>0.0</td>\n",
       "      <td>yes</td>\n",
       "    </tr>\n",
       "    <tr>\n",
       "      <th>117</th>\n",
       "      <td>Bidois, Miss. Rosalie</td>\n",
       "      <td>female</td>\n",
       "      <td>46.0</td>\n",
       "      <td>1st</td>\n",
       "      <td>C</td>\n",
       "      <td>NaN</td>\n",
       "      <td>17757.0</td>\n",
       "      <td>247.1006</td>\n",
       "      <td>0.0</td>\n",
       "      <td>0.0</td>\n",
       "      <td>yes</td>\n",
       "    </tr>\n",
       "    <tr>\n",
       "      <th>118</th>\n",
       "      <td>Bing, Mr. Lee</td>\n",
       "      <td>male</td>\n",
       "      <td>32.0</td>\n",
       "      <td>3rd</td>\n",
       "      <td>S</td>\n",
       "      <td>NaN</td>\n",
       "      <td>1601.0</td>\n",
       "      <td>56.0911</td>\n",
       "      <td>0.0</td>\n",
       "      <td>0.0</td>\n",
       "      <td>yes</td>\n",
       "    </tr>\n",
       "    <tr>\n",
       "      <th>121</th>\n",
       "      <td>Birnbaum, Mr. Jakob</td>\n",
       "      <td>male</td>\n",
       "      <td>24.0</td>\n",
       "      <td>1st</td>\n",
       "      <td>C</td>\n",
       "      <td>NaN</td>\n",
       "      <td>13905.0</td>\n",
       "      <td>26.0000</td>\n",
       "      <td>0.0</td>\n",
       "      <td>0.0</td>\n",
       "      <td>no</td>\n",
       "    </tr>\n",
       "    <tr>\n",
       "      <th>131</th>\n",
       "      <td>Bostandyeff, Mr. Guentcho</td>\n",
       "      <td>male</td>\n",
       "      <td>26.0</td>\n",
       "      <td>3rd</td>\n",
       "      <td>S</td>\n",
       "      <td>NaN</td>\n",
       "      <td>349224.0</td>\n",
       "      <td>7.1711</td>\n",
       "      <td>0.0</td>\n",
       "      <td>0.0</td>\n",
       "      <td>no</td>\n",
       "    </tr>\n",
       "  </tbody>\n",
       "</table>\n",
       "</div>"
      ],
      "text/plain": [
       "                          name  gender   age class embarked country  ticketno  \\\n",
       "89    Barber, Miss. Ellen Mary  female  27.0   1st        S     NaN   19877.0   \n",
       "117      Bidois, Miss. Rosalie  female  46.0   1st        C     NaN   17757.0   \n",
       "118              Bing, Mr. Lee    male  32.0   3rd        S     NaN    1601.0   \n",
       "121        Birnbaum, Mr. Jakob    male  24.0   1st        C     NaN   13905.0   \n",
       "131  Bostandyeff, Mr. Guentcho    male  26.0   3rd        S     NaN  349224.0   \n",
       "\n",
       "         fare  sibsp  parch survived  \n",
       "89    78.1700    0.0    0.0      yes  \n",
       "117  247.1006    0.0    0.0      yes  \n",
       "118   56.0911    0.0    0.0      yes  \n",
       "121   26.0000    0.0    0.0       no  \n",
       "131    7.1711    0.0    0.0       no  "
      ]
     },
     "execution_count": 17,
     "metadata": {},
     "output_type": "execute_result"
    }
   ],
   "source": [
    "datos_nulos_pais.head()"
   ]
  },
  {
   "cell_type": "code",
   "execution_count": 18,
   "metadata": {},
   "outputs": [],
   "source": [
    "## La manera mas facil para solucionar esto es simplemente borrando los datos de las filas por ejemplo\n",
    "dataset_sin_nulos = df.dropna(subset=[\"country\",'age'])"
   ]
  },
  {
   "cell_type": "code",
   "execution_count": 19,
   "metadata": {},
   "outputs": [
    {
     "data": {
      "text/plain": [
       "name          0\n",
       "gender        0\n",
       "age           0\n",
       "class         0\n",
       "embarked      0\n",
       "country       0\n",
       "ticketno    887\n",
       "fare        911\n",
       "sibsp       895\n",
       "parch       895\n",
       "survived      0\n",
       "dtype: int64"
      ]
     },
     "execution_count": 19,
     "metadata": {},
     "output_type": "execute_result"
    }
   ],
   "source": [
    "dataset_sin_nulos.isnull().sum() # El problema de esto es que en pequenios dataset va a generar que nos quedemos sin datos "
   ]
  },
  {
   "cell_type": "markdown",
   "metadata": {},
   "source": [
    "### Rellenar las filas faltantees con informacion \n",
    "Esta es una mejor alternativa que ponemos datos por defecto para solucionar en este caso a country se le pondra por defecto desconocido"
   ]
  },
  {
   "cell_type": "code",
   "execution_count": 28,
   "metadata": {},
   "outputs": [
    {
     "name": "stdout",
     "output_type": "stream",
     "text": [
      "0       United States\n",
      "1       United States\n",
      "2       United States\n",
      "3             England\n",
      "4              Norway\n",
      "            ...      \n",
      "2202          England\n",
      "2203          England\n",
      "2204          England\n",
      "2205          England\n",
      "2206          England\n",
      "Name: country, Length: 2207, dtype: object\n"
     ]
    }
   ],
   "source": [
    "print(df['country'].fillna('desconocido'))"
   ]
  },
  {
   "cell_type": "markdown",
   "metadata": {},
   "source": [
    "Se puede emplear un diccionario para establecer los valores faltantes que se pueden usar, y con el parametro values se puede realizar esto."
   ]
  },
  {
   "cell_type": "code",
   "execution_count": 29,
   "metadata": {},
   "outputs": [],
   "source": [
    "valores_por_defecto = {'country':'desconocido','ticketno':'0'}"
   ]
  },
  {
   "cell_type": "code",
   "execution_count": 31,
   "metadata": {},
   "outputs": [],
   "source": [
    "df.fillna(value=valores_por_defecto,inplace=True)"
   ]
  },
  {
   "cell_type": "markdown",
   "metadata": {},
   "source": [
    "# Manejar datos faltantes con la mediana, media y moda"
   ]
  },
  {
   "cell_type": "code",
   "execution_count": 34,
   "metadata": {},
   "outputs": [
    {
     "name": "stdout",
     "output_type": "stream",
     "text": [
      "30.444444444444397 29.0 22.0\n"
     ]
    }
   ],
   "source": [
    "promedio = df['age'].mean()\n",
    "mediana = df['age'].median()\n",
    "moda = df['age'].mode()[0]\n",
    "print(promedio,mediana,moda)"
   ]
  },
  {
   "cell_type": "code",
   "execution_count": 35,
   "metadata": {},
   "outputs": [
    {
     "data": {
      "text/plain": [
       "0       42.0\n",
       "1       13.0\n",
       "2       16.0\n",
       "3       39.0\n",
       "4       16.0\n",
       "        ... \n",
       "2202    41.0\n",
       "2203    40.0\n",
       "2204    32.0\n",
       "2205    20.0\n",
       "2206    26.0\n",
       "Name: age, Length: 2207, dtype: float64"
      ]
     },
     "execution_count": 35,
     "metadata": {},
     "output_type": "execute_result"
    }
   ],
   "source": [
    "#Para este caso se reemplazara con la mediana\n",
    "df['age'].fillna(mediana)"
   ]
  }
 ],
 "metadata": {
  "kernelspec": {
   "display_name": "base",
   "language": "python",
   "name": "python3"
  },
  "language_info": {
   "codemirror_mode": {
    "name": "ipython",
    "version": 3
   },
   "file_extension": ".py",
   "mimetype": "text/x-python",
   "name": "python",
   "nbconvert_exporter": "python",
   "pygments_lexer": "ipython3",
   "version": "3.12.3"
  }
 },
 "nbformat": 4,
 "nbformat_minor": 2
}
